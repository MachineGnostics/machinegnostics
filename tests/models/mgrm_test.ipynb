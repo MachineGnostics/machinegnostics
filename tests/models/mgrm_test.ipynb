{
 "cells": [
  {
   "cell_type": "code",
   "execution_count": 1,
   "id": "48b8607f",
   "metadata": {},
   "outputs": [
    {
     "name": "stderr",
     "output_type": "stream",
     "text": [
      "/Users/nirmal/Documents/np_research/ManGo_code/ManGo/.venv/lib/python3.11/site-packages/mlflow/pyfunc/utils/data_validation.py:155: FutureWarning: Model's `predict` method contains invalid parameters: {'X'}. Only the following parameter names are allowed: context, model_input, and params. Note that invalid parameters will no longer be permitted in future versions.\n",
      "  param_names = _check_func_signature(func, \"predict\")\n",
      "/Users/nirmal/Documents/np_research/ManGo_code/ManGo/.venv/lib/python3.11/site-packages/mlflow/pyfunc/utils/data_validation.py:186: UserWarning: \u001b[33mAdd type hints to the `predict` method to enable data validation and automatic signature inference during model logging. Check https://mlflow.org/docs/latest/model/python_model.html#type-hint-usage-in-pythonmodel for more details.\u001b[0m\n",
      "  color_warning(\n",
      "/Users/nirmal/Documents/np_research/ManGo_code/ManGo/.venv/lib/python3.11/site-packages/mlflow/pyfunc/utils/data_validation.py:186: UserWarning: \u001b[33mAdd type hints to the `predict` method to enable data validation and automatic signature inference during model logging. Check https://mlflow.org/docs/latest/model/python_model.html#type-hint-usage-in-pythonmodel for more details.\u001b[0m\n",
      "  color_warning(\n"
     ]
    }
   ],
   "source": [
    "import sys\n",
    "from pathlib import Path\n",
    "\n",
    "# Get the absolute path to the project root\n",
    "notebook_path = Path('/Users/nirmal/Documents/np_research/ManGo_code/ManGo')\n",
    "project_root = str(notebook_path)\n",
    "\n",
    "# Add the project root to Python path if it's not already there\n",
    "if project_root not in sys.path:\n",
    "    sys.path.insert(0, project_root)\n",
    "\n",
    "# Now you can import your module\n",
    "from src.models.mg_rig_wrp import GnosticRobustRegressor\n",
    "\n",
    "# Verify the import worked\n",
    "# print(f\"Project root: {project_root}\")\n",
    "# print(f\"Available at: {RobustRegressor.__module__}\")"
   ]
  },
  {
   "cell_type": "code",
   "execution_count": 9,
   "id": "bc52ffdb",
   "metadata": {},
   "outputs": [
    {
     "name": "stderr",
     "output_type": "stream",
     "text": [
      "2025/05/18 11:30:27 INFO mlflow.pyfunc: Validating input example against model signature\n"
     ]
    },
    {
     "name": "stdout",
     "output_type": "stream",
     "text": [
      "Machine Gnostic loss - hi : 74.8942\n",
      "Machine Gnostic loss - hi : 84.8148\n"
     ]
    },
    {
     "name": "stderr",
     "output_type": "stream",
     "text": [
      "Registered model 'GnosticRobustRegressor' already exists. Creating a new version of this model...\n",
      "Created version '2' of model 'GnosticRobustRegressor'.\n"
     ]
    }
   ],
   "source": [
    "import pandas as pd\n",
    "import mlflow.pyfunc\n",
    "from mlflow.models.signature import infer_signature\n",
    "\n",
    "# Create and train the model\n",
    "model = RobustRegressor(degree=3, mg_loss='hi', verbose=True)\n",
    "X = np.random.rand(100, 2)\n",
    "y = np.random.rand(100)\n",
    "model.fit(X, y)\n",
    "\n",
    "# Create an input example\n",
    "input_example = pd.DataFrame(X, columns=[\"feature1\", \"feature2\"])\n",
    "\n",
    "# Infer the model signature\n",
    "signature = infer_signature(input_example, model.predict( input_example))\n",
    "\n",
    "# Log the model to MLflow with input_example and signature\n",
    "with mlflow.start_run():\n",
    "    mlflow.pyfunc.log_model(\n",
    "        artifact_path=\"robust_regressor\",\n",
    "        python_model=model,\n",
    "        registered_model_name=\"GnosticRobustRegressor\",\n",
    "        input_example=input_example,\n",
    "        signature=signature\n",
    "    )"
   ]
  },
  {
   "cell_type": "code",
   "execution_count": 7,
   "id": "6d57ffec",
   "metadata": {},
   "outputs": [
    {
     "name": "stdout",
     "output_type": "stream",
     "text": [
      "[0.45263084 0.31250219 0.2687311  0.2355985  0.36240116 0.31209806\n",
      " 0.31387786 0.48452815 0.31547405 0.36282762]\n"
     ]
    }
   ],
   "source": [
    "# Load the model from MLflow\n",
    "loaded_model = mlflow.pyfunc.load_model(\"models:/GnosticRobustRegressor/1\")\n",
    "\n",
    "# Use the model for predictions\n",
    "import pandas as pd\n",
    "X_test = pd.DataFrame(np.random.rand(10, 2))\n",
    "predictions = loaded_model.predict(X_test)\n",
    "print(predictions)"
   ]
  },
  {
   "cell_type": "code",
   "execution_count": 13,
   "id": "d5c8a211",
   "metadata": {},
   "outputs": [
    {
     "name": "stderr",
     "output_type": "stream",
     "text": [
      "2025/05/18 11:32:29 INFO mlflow.pyfunc: Validating input example against model signature\n"
     ]
    },
    {
     "name": "stdout",
     "output_type": "stream",
     "text": [
      "Machine Gnostic loss - hi : 84.4595\n",
      "Machine Gnostic loss - hi : 84.8035\n",
      "Predictions:\n",
      "[1.40952163 2.94511034 2.19371197 3.53122398 0.67267672 3.22977985\n",
      " 1.87467508 1.64238736 2.08641667 1.17793143]\n"
     ]
    },
    {
     "name": "stderr",
     "output_type": "stream",
     "text": [
      "Registered model 'GnosticRobustRegressor' already exists. Creating a new version of this model...\n",
      "Created version '4' of model 'GnosticRobustRegressor'.\n"
     ]
    }
   ],
   "source": [
    "import numpy as np\n",
    "import pandas as pd\n",
    "import mlflow\n",
    "import mlflow.pyfunc\n",
    "from mlflow.models.signature import infer_signature\n",
    "from src.models.mg_rig import RobustRegressor  # Replace with your actual import path\n",
    "\n",
    "# Step 1: Set up MLflow experiment\n",
    "mlflow.set_experiment(\"Robust Regressor Experiment\")\n",
    "\n",
    "# Step 2: Generate synthetic data\n",
    "X = np.random.rand(100, 2)  # 100 samples, 2 features\n",
    "y = 2.5 * X[:, 0] + 1.5 * X[:, 1] + np.random.normal(scale=0.1, size=100)  # Linear relationship with noise\n",
    "\n",
    "# Step 3: Train the model\n",
    "model = RobustRegressor(degree=3, mg_loss='hi', verbose=True)\n",
    "model.fit(X, y)\n",
    "\n",
    "# Step 4: Create an input example and infer the model signature\n",
    "input_example = pd.DataFrame(X, columns=[\"feature1\", \"feature2\"])\n",
    "signature = infer_signature(input_example, model.predict(input_example))\n",
    "\n",
    "# Step 5: Log the model, parameters, and metrics to MLflow\n",
    "with mlflow.start_run():\n",
    "    # Log parameters\n",
    "    mlflow.log_param(\"degree\", 3)\n",
    "    mlflow.log_param(\"mg_loss\", \"hi\")\n",
    "    mlflow.log_param(\"verbose\", True)\n",
    "\n",
    "    # Log metrics (example: training RMSE)\n",
    "    y_pred = model.predict(input_example)\n",
    "    rmse = np.sqrt(np.mean((y - y_pred) ** 2))\n",
    "    mlflow.log_metric(\"train_rmse\", rmse)\n",
    "\n",
    "    # Log the model\n",
    "    mlflow.pyfunc.log_model(\n",
    "        artifact_path=\"robust_regressor\",\n",
    "        python_model=model,\n",
    "        registered_model_name=\"GnosticRobustRegressor\",\n",
    "        input_example=input_example,\n",
    "        signature=signature\n",
    "    )\n",
    "\n",
    "# Step 6: Load the model from MLflow\n",
    "loaded_model = mlflow.pyfunc.load_model(\"models:/GnosticRobustRegressor/3\")\n",
    "\n",
    "# Step 7: Use the loaded model for predictions\n",
    "X_test = pd.DataFrame(np.random.rand(10, 2), columns=[\"feature1\", \"feature2\"])\n",
    "predictions = loaded_model.predict(X_test)\n",
    "print(\"Predictions:\")\n",
    "print(predictions)\n",
    "\n",
    "# Step 8: Serve the model as a REST API (optional)\n",
    "# Run this command in the terminal to serve the model:\n",
    "# mlflow models serve -m \"models:/GnosticRobustRegressor/1\" --port 5000\n",
    "# Then, make predictions via REST API:\n",
    "# curl -X POST -H \"Content-Type: application/json\" --data '{\"columns\":[\"feature1\", \"feature2\"], \"data\":[[0.1, 0.2], [0.3, 0.4]]}' http://127.0.0.1:5000/invocations"
   ]
  },
  {
   "cell_type": "code",
   "execution_count": null,
   "id": "c5678066",
   "metadata": {},
   "outputs": [],
   "source": []
  }
 ],
 "metadata": {
  "kernelspec": {
   "display_name": ".venv",
   "language": "python",
   "name": "python3"
  },
  "language_info": {
   "codemirror_mode": {
    "name": "ipython",
    "version": 3
   },
   "file_extension": ".py",
   "mimetype": "text/x-python",
   "name": "python",
   "nbconvert_exporter": "python",
   "pygments_lexer": "ipython3",
   "version": "3.11.12"
  }
 },
 "nbformat": 4,
 "nbformat_minor": 5
}

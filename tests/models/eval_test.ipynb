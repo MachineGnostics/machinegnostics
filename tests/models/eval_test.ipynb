{
 "cells": [
  {
   "cell_type": "code",
   "execution_count": 1,
   "id": "ab721791",
   "metadata": {},
   "outputs": [
    {
     "name": "stdout",
     "output_type": "stream",
     "text": [
      "Project root: /Users/nirmal/Documents/np_research/ManGo_code/ManGo\n",
      "Available at: src.magcal.gmed\n"
     ]
    }
   ],
   "source": [
    "import sys\n",
    "from pathlib import Path\n",
    "\n",
    "# Get the absolute path to the project root\n",
    "notebook_path = Path('/Users/nirmal/Documents/np_research/ManGo_code/ManGo')\n",
    "project_root = str(notebook_path)\n",
    "\n",
    "# Add the project root to Python path if it's not already there\n",
    "if project_root not in sys.path:\n",
    "    sys.path.insert(0, project_root)\n",
    "\n",
    "# Now you can import your module\n",
    "from src.magcal.gmed import gmedian\n",
    "\n",
    "# Verify the import worked\n",
    "print(f\"Project root: {project_root}\")\n",
    "print(f\"Available at: {gmedian.__module__}\")"
   ]
  },
  {
   "cell_type": "code",
   "execution_count": 2,
   "id": "6f80fb35",
   "metadata": {},
   "outputs": [
    {
     "name": "stdout",
     "output_type": "stream",
     "text": [
      "i G-median: 3.1887\n",
      "j G-median: 3.2105\n"
     ]
    }
   ],
   "source": [
    "\n",
    "# Sample data\n",
    "import numpy as np\n",
    "data = np.array([1.2, 2.3, 3.4, 4.5, 5.6])\n",
    "\n",
    "# Using function directly\n",
    "g_median_quant = gmedian(data, case='j')\n",
    "print(f\"i G-median: {g_median_quant:.4f}\")\n",
    "\n",
    "g_median_esti = gmedian(data, case='i')\n",
    "print(f\"j G-median: {g_median_esti:.4f}\")"
   ]
  },
  {
   "cell_type": "code",
   "execution_count": 3,
   "id": "6cbce12f",
   "metadata": {},
   "outputs": [
    {
     "name": "stdout",
     "output_type": "stream",
     "text": [
      "median 3.4\n"
     ]
    }
   ],
   "source": [
    "print(f'median {np.median(data)}')"
   ]
  },
  {
   "cell_type": "code",
   "execution_count": 4,
   "id": "6fe1be6f",
   "metadata": {},
   "outputs": [
    {
     "name": "stdout",
     "output_type": "stream",
     "text": [
      "mean 3.4\n"
     ]
    }
   ],
   "source": [
    "print(f'mean {np.mean(data)}')"
   ]
  },
  {
   "cell_type": "code",
   "execution_count": 5,
   "id": "c32f72a6",
   "metadata": {},
   "outputs": [],
   "source": [
    "from src.magcal.gmodulus import gmodulus\n",
    "from src.magcal.gvar import gvariance\n",
    "from src.magcal.gacov import gautocovariance\n",
    "from src.magcal import gcorrelation, gvariance, gmodulus, gautocovariance, gcovariance"
   ]
  },
  {
   "cell_type": "code",
   "execution_count": 6,
   "id": "7ee4722e",
   "metadata": {},
   "outputs": [],
   "source": [
    "data = np.array([1, 1, 1, 1.3, 1.1, 1, 1.4])"
   ]
  },
  {
   "cell_type": "code",
   "execution_count": 7,
   "id": "a1753b6b",
   "metadata": {},
   "outputs": [
    {
     "name": "stdout",
     "output_type": "stream",
     "text": [
      "i G-median: 1.1014\n",
      "j G-median: 1.0790\n"
     ]
    }
   ],
   "source": [
    "# Using function directly\n",
    "g_median_quant = gmedian(data, case='j')\n",
    "print(f\"i G-median: {g_median_quant:.4f}\")\n",
    "\n",
    "g_median_esti = gmedian(data, case='i')\n",
    "print(f\"j G-median: {g_median_esti:.4f}\")"
   ]
  },
  {
   "cell_type": "code",
   "execution_count": 8,
   "id": "d5808eb8",
   "metadata": {},
   "outputs": [],
   "source": [
    "Mi = gmodulus(data, case='i')\n",
    "Mj = gmodulus(data, case='j')\n",
    "\n"
   ]
  },
  {
   "cell_type": "code",
   "execution_count": 9,
   "id": "b27bcbb0",
   "metadata": {},
   "outputs": [
    {
     "name": "stdout",
     "output_type": "stream",
     "text": [
      "Mi 0.7586710175646536, Mj 1.0353479722893655\n"
     ]
    }
   ],
   "source": [
    "print(f'Mi {Mi}, Mj {Mj}')"
   ]
  },
  {
   "cell_type": "code",
   "execution_count": 10,
   "id": "95b612f5",
   "metadata": {},
   "outputs": [],
   "source": [
    "gvar_i = gvariance(data, 'i')\n",
    "gvar_j = gvariance(data, 'j')"
   ]
  },
  {
   "cell_type": "code",
   "execution_count": 11,
   "id": "5e27f8fe",
   "metadata": {},
   "outputs": [
    {
     "name": "stdout",
     "output_type": "stream",
     "text": [
      "Gvar i:6.2775181878091e-14, Gvar j:0.007967047408588992\n"
     ]
    }
   ],
   "source": [
    "print(f'Gvar i:{gvar_i}, Gvar j:{gvar_j}')"
   ]
  },
  {
   "cell_type": "code",
   "execution_count": 12,
   "id": "afa185a1",
   "metadata": {},
   "outputs": [
    {
     "name": "stdout",
     "output_type": "stream",
     "text": [
      "Gvar i:2.0943247136528953e-12, Gvar j:-0.4570435138918648\n"
     ]
    }
   ],
   "source": [
    "# example of gvariance\n",
    "data = np.array([1, 2, 3, 4, 5])\n",
    "gvar_i = gvariance(data, 'i')\n",
    "gvar_j = gvariance(data, 'j')\n",
    "print(f'Gvar i:{gvar_i}, Gvar j:{gvar_j}')"
   ]
  },
  {
   "cell_type": "code",
   "execution_count": 13,
   "id": "7b08d112",
   "metadata": {},
   "outputs": [
    {
     "name": "stdout",
     "output_type": "stream",
     "text": [
      "Gcorrelation i:-0.48811115231124125, Gcorrelation j:-2.436396290059431\n"
     ]
    }
   ],
   "source": [
    "# example of gcorrelation\n",
    "data1 = np.array([1, 2, 3, 4, 5])\n",
    "data2 = np.array([5, 4, 3, 2, 1])\n",
    "gcor_i = gcorrelation(data1, data2, 'i')\n",
    "gcor_j = gcorrelation(data1, data2, 'j')\n",
    "print(f'Gcorrelation i:{gcor_i}, Gcorrelation j:{gcor_j}')"
   ]
  },
  {
   "cell_type": "code",
   "execution_count": 14,
   "id": "01ae3a09",
   "metadata": {},
   "outputs": [
    {
     "name": "stdout",
     "output_type": "stream",
     "text": [
      "Gautocovariance i:0.26767904840384404, Gautocovariance j:0.9855072394456723\n",
      "Gcovariance i:-0.48811115231124125, Gcovariance j:-2.436396290059431\n",
      "Gmodulus i:0.6563794353616111, Gmodulus j:1.7944203642047116\n",
      "Gmedian i:2.824266155122618, Gmedian j:2.8084133025557407\n",
      "Gcorrelation i:-0.48811115231124125, Gcorrelation j:-2.436396290059431\n"
     ]
    }
   ],
   "source": [
    "# example of gautocovariance\n",
    "data = np.array([1, 2, 3, 4, 5])\n",
    "gautocov_i = gautocovariance(data, 'i')\n",
    "gautocov_j = gautocovariance(data, 'j')\n",
    "print(f'Gautocovariance i:{gautocov_i}, Gautocovariance j:{gautocov_j}')\n",
    "# example of gcovariance\n",
    "data1 = np.array([1, 2, 3, 4, 5])\n",
    "data2 = np.array([5, 4, 3, 2, 1])\n",
    "gcov_i = gcovariance(data1, data2, 'i')\n",
    "gcov_j = gcovariance(data1, data2, 'j')\n",
    "print(f'Gcovariance i:{gcov_i}, Gcovariance j:{gcov_j}')\n",
    "# example of gmodulus\n",
    "data = np.array([1, 2, 3, 4, 5])\n",
    "gmod_i = gmodulus(data, 'i')\n",
    "gmod_j = gmodulus(data, 'j')\n",
    "print(f'Gmodulus i:{gmod_i}, Gmodulus j:{gmod_j}')\n",
    "# example of gmedian\n",
    "data = np.array([1, 2, 3, 4, 5])\n",
    "gmed_i = gmedian(data, 'i')\n",
    "gmed_j = gmedian(data, 'j')\n",
    "print(f'Gmedian i:{gmed_i}, Gmedian j:{gmed_j}')\n",
    "# example of gcorrelation\n",
    "data1 = np.array([1, 2, 3, 4, 5])\n",
    "data2 = np.array([5, 4, 3, 2, 1])\n",
    "gcor_i = gcorrelation(data1, data2, 'i')\n",
    "gcor_j = gcorrelation(data1, data2, 'j')\n",
    "print(f'Gcorrelation i:{gcor_i}, Gcorrelation j:{gcor_j}')"
   ]
  },
  {
   "cell_type": "code",
   "execution_count": 15,
   "id": "83621e3c",
   "metadata": {},
   "outputs": [],
   "source": [
    "from src.metrics import robr2, gmmfe, divI, evalMet"
   ]
  },
  {
   "cell_type": "code",
   "execution_count": 16,
   "id": "2e07bc74",
   "metadata": {},
   "outputs": [
    {
     "name": "stdout",
     "output_type": "stream",
     "text": [
      "Robust R-squared: 0.9892\n",
      "GMMFE: 1.0571\n",
      "Divergence: 1.0509\n",
      "Evaluation Metrics: 0.8904755326529226\n"
     ]
    }
   ],
   "source": [
    "# Example data\n",
    "y = np.array([1.0, 2.0, 3.0, 4.0, 5.0])\n",
    "y_fit = np.array([0.9, 2.1, 2.9, 4.2, 4.8])\n",
    "weights = np.array([1, 1, 1, 1, 1])\n",
    "\n",
    "# Calculate the robust R-squared value\n",
    "robust_r2 = robr2(y, y_fit, weights)\n",
    "print(f\"Robust R-squared: {robust_r2:.4f}\")\n",
    "\n",
    "# Calculate the GMMFE\n",
    "gmmfe_value = gmmfe(y, y_fit)\n",
    "print(f\"GMMFE: {gmmfe_value:.4f}\")\n",
    "\n",
    "# Calculate the divergence\n",
    "divergence_value = divI(y, y_fit)\n",
    "print(f\"Divergence: {divergence_value:.4f}\")\n",
    "\n",
    "# Calculate the evaluation metrics\n",
    "metrics = evalMet(y, y_fit, weights)\n",
    "print(f\"Evaluation Metrics: {metrics}\")"
   ]
  },
  {
   "cell_type": "code",
   "execution_count": 42,
   "id": "a4a270d0",
   "metadata": {},
   "outputs": [
    {
     "name": "stdout",
     "output_type": "stream",
     "text": [
      "Robust R-squared: 0.4660\n",
      "GMMFE: 4.3129\n",
      "Divergence: -86.5310\n",
      "Evaluation Metrics: -0.0012485937774240304\n"
     ]
    }
   ],
   "source": [
    "import numpy as np\n",
    "from sklearn.metrics import r2_score\n",
    "\n",
    "# Simulate more complex data\n",
    "np.random.seed(42)  # For reproducibility\n",
    "x = np.linspace(0, 10, 20)\n",
    "y = 2.5 * np.sin(x) + 0.5 * x + np.random.normal(scale=.2, size=len(x))  # Non-linear data with noise\n",
    "# adding specific outlier \n",
    "y[5] = 0.55  # Adding an outlier\n",
    "y[7] = 7.5  # Adding another outlier\n",
    "y[13] = 12.9 # Adding another outlier\n",
    "# y[5] = 11.5 # Adding another outlier\n",
    "y_fit = 2.5 * np.sin(x) + 0.5 * x  # Ideal fit (without noise)\n",
    "weights = np.random.uniform(0.8, 1.2, size=len(x))  # Random weights\n",
    "\n",
    "# Calculate the robust R-squared value\n",
    "robust_r2 = robr2(y, y_fit, weights)\n",
    "print(f\"Robust R-squared: {robust_r2:.4f}\")\n",
    "\n",
    "# Calculate the GMMFE\n",
    "gmmfe_value = gmmfe(y, y_fit)\n",
    "print(f\"GMMFE: {gmmfe_value:.4f}\")\n",
    "\n",
    "# Calculate the divergence\n",
    "divergence_value = divI(y, y_fit)\n",
    "print(f\"Divergence: {divergence_value:.4f}\")\n",
    "\n",
    "# Calculate the evaluation metrics\n",
    "metrics = evalMet(y, y_fit, weights)\n",
    "print(f\"Evaluation Metrics: {metrics}\")"
   ]
  },
  {
   "cell_type": "code",
   "execution_count": 43,
   "id": "cfb48761",
   "metadata": {},
   "outputs": [],
   "source": [
    "from src.models import RobustRegressor\n",
    "\n",
    "mgr = RobustRegressor(degree=6)\n",
    "\n",
    "mgr.fit(x, y)\n",
    "\n",
    "y_pred = mgr.predict(x)"
   ]
  },
  {
   "cell_type": "code",
   "execution_count": 44,
   "id": "6a808acd",
   "metadata": {},
   "outputs": [],
   "source": [
    "# sk learn polinomial regression\n",
    "from sklearn.preprocessing import PolynomialFeatures\n",
    "from sklearn.linear_model import LinearRegression\n",
    "from sklearn.pipeline import make_pipeline\n",
    "from sklearn.metrics import mean_squared_error\n",
    "from sklearn.metrics import r2_score\n",
    "\n",
    "# Create a polynomial regression model\n",
    "degree = 6\n",
    "polyreg = make_pipeline(PolynomialFeatures(degree), LinearRegression())\n",
    "polyreg.fit(x.reshape(-1, 1), y)\n",
    "y_pred_sklearn = polyreg.predict(x.reshape(-1, 1))"
   ]
  },
  {
   "cell_type": "code",
   "execution_count": 45,
   "id": "74d593f4",
   "metadata": {},
   "outputs": [
    {
     "name": "stdout",
     "output_type": "stream",
     "text": [
      "R-squared - MG: 0.3692\n",
      "R-squared - sklearn: 0.4765\n",
      "Robust R-squared: 0.9916\n",
      "GMMFE: 4.7443\n",
      "Divergence: 19.0532\n",
      "Evaluation Metrics: 0.01096978493579073\n"
     ]
    }
   ],
   "source": [
    "# sklearn's R-squared value\n",
    "r2 = r2_score(y, y_pred)\n",
    "print(f\"R-squared - MG: {r2:.4f}\")\n",
    "\n",
    "# sklearn's R-squared value for polynomial regression\n",
    "r2_sklearn = r2_score(y, y_pred_sklearn)\n",
    "print(f\"R-squared - sklearn: {r2_sklearn:.4f}\")\n",
    "\n",
    "# robust regressor evaluation\n",
    "robust_r2 = robr2(y, y_pred, mgr.weights)\n",
    "print(f\"Robust R-squared: {robust_r2:.4f}\")\n",
    "# Calculate the GMMFE\n",
    "gmmfe_value = gmmfe(y, y_pred)\n",
    "print(f\"GMMFE: {gmmfe_value:.4f}\")\n",
    "# Calculate the divergence\n",
    "divergence_value = divI(y, y_pred)\n",
    "print(f\"Divergence: {divergence_value:.4f}\")\n",
    "# Calculate the evaluation metrics\n",
    "metrics = evalMet(y, y_pred, mgr.weights)\n",
    "print(f\"Evaluation Metrics: {metrics}\")"
   ]
  },
  {
   "cell_type": "code",
   "execution_count": 46,
   "id": "3a3ed1af",
   "metadata": {},
   "outputs": [
    {
     "data": {
      "image/png": "[encoded data removed]",
      "text/plain": [
       "<Figure size 1000x600 with 1 Axes>"
      ]
     },
     "metadata": {},
     "output_type": "display_data"
    }
   ],
   "source": [
    "# plot y and y_fit with error bars\n",
    "import matplotlib.pyplot as plt\n",
    "\n",
    "plt.figure(figsize=(10, 6))\n",
    "plt.scatter(x, y, label='Observed Data', color='blue', alpha=0.6)\n",
    "plt.plot(x, y_fit, label='True Line Function', color='red', linewidth=2)\n",
    "# plot y_pred from robust regressor\n",
    "plt.plot(x, y_pred, label='Mango Fit', color='green', linestyle='--', linewidth=2)\n",
    "# plot y_pred from sklearn\n",
    "plt.plot(x, y_pred_sklearn, label='Sklearn Fit', color='orange', linestyle='--', linewidth=2)\n",
    "plt.errorbar(x, y, yerr=0.5, fmt='o', color='gray', alpha=0.5, label='Error Bars')\n",
    "plt.title('Observed Data vs Fitted Line')\n",
    "plt.xlabel('X-axis')\n",
    "plt.ylabel('Y-axis')\n",
    "plt.legend()\n",
    "plt.grid()\n",
    "plt.show()"
   ]
  },
  {
   "cell_type": "code",
   "execution_count": null,
   "id": "5c3da303",
   "metadata": {},
   "outputs": [],
   "source": []
  }
 ],
 "metadata": {
  "kernelspec": {
   "display_name": ".venv",
   "language": "python",
   "name": "python3"
  },
  "language_info": {
   "codemirror_mode": {
    "name": "ipython",
    "version": 3
   },
   "file_extension": ".py",
   "mimetype": "text/x-python",
   "name": "python",
   "nbconvert_exporter": "python",
   "pygments_lexer": "ipython3",
   "version": "3.11.12"
  }
 },
 "nbformat": 4,
 "nbformat_minor": 5
}

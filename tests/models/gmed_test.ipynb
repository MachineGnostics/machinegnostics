{
 "cells": [
  {
   "cell_type": "code",
   "execution_count": 1,
   "id": "ab721791",
   "metadata": {},
   "outputs": [
    {
     "name": "stdout",
     "output_type": "stream",
     "text": [
      "Project root: /Users/nirmal/Documents/np_research/ManGo_code/ManGo\n",
      "Available at: src.magcal.gmed\n"
     ]
    }
   ],
   "source": [
    "import sys\n",
    "from pathlib import Path\n",
    "\n",
    "# Get the absolute path to the project root\n",
    "notebook_path = Path('/Users/nirmal/Documents/np_research/ManGo_code/ManGo')\n",
    "project_root = str(notebook_path)\n",
    "\n",
    "# Add the project root to Python path if it's not already there\n",
    "if project_root not in sys.path:\n",
    "    sys.path.insert(0, project_root)\n",
    "\n",
    "# Now you can import your module\n",
    "from src.magcal.gmed import gmedian\n",
    "\n",
    "# Verify the import worked\n",
    "print(f\"Project root: {project_root}\")\n",
    "print(f\"Available at: {gmedian.__module__}\")"
   ]
  },
  {
   "cell_type": "code",
   "execution_count": 2,
   "id": "6f80fb35",
   "metadata": {},
   "outputs": [
    {
     "name": "stdout",
     "output_type": "stream",
     "text": [
      "i G-median: 3.1887\n",
      "j G-median: 3.2105\n"
     ]
    }
   ],
   "source": [
    "\n",
    "# Sample data\n",
    "import numpy as np\n",
    "data = np.array([1.2, 2.3, 3.4, 4.5, 5.6])\n",
    "\n",
    "# Using function directly\n",
    "g_median_quant = gmedian(data, case='j')\n",
    "print(f\"i G-median: {g_median_quant:.4f}\")\n",
    "\n",
    "g_median_esti = gmedian(data, case='i')\n",
    "print(f\"j G-median: {g_median_esti:.4f}\")"
   ]
  },
  {
   "cell_type": "code",
   "execution_count": 3,
   "id": "6cbce12f",
   "metadata": {},
   "outputs": [
    {
     "name": "stdout",
     "output_type": "stream",
     "text": [
      "median 3.4\n"
     ]
    }
   ],
   "source": [
    "print(f'median {np.median(data)}')"
   ]
  },
  {
   "cell_type": "code",
   "execution_count": 4,
   "id": "6fe1be6f",
   "metadata": {},
   "outputs": [
    {
     "name": "stdout",
     "output_type": "stream",
     "text": [
      "mean 3.4\n"
     ]
    }
   ],
   "source": [
    "print(f'mean {np.mean(data)}')"
   ]
  },
  {
   "cell_type": "code",
   "execution_count": 5,
   "id": "c32f72a6",
   "metadata": {},
   "outputs": [],
   "source": [
    "from src.magcal.modulus import gmodulus"
   ]
  },
  {
   "cell_type": "code",
   "execution_count": 6,
   "id": "7ee4722e",
   "metadata": {},
   "outputs": [],
   "source": [
    "data = np.array([1, 1, 1, 1, 1, 1, 1])"
   ]
  },
  {
   "cell_type": "code",
   "execution_count": 7,
   "id": "a1753b6b",
   "metadata": {},
   "outputs": [
    {
     "name": "stdout",
     "output_type": "stream",
     "text": [
      "i G-median: 1.0000\n",
      "j G-median: 1.0000\n"
     ]
    }
   ],
   "source": [
    "# Using function directly\n",
    "g_median_quant = gmedian(data, case='j')\n",
    "print(f\"i G-median: {g_median_quant:.4f}\")\n",
    "\n",
    "g_median_esti = gmedian(data, case='i')\n",
    "print(f\"j G-median: {g_median_esti:.4f}\")"
   ]
  },
  {
   "cell_type": "code",
   "execution_count": 10,
   "id": "d5808eb8",
   "metadata": {},
   "outputs": [],
   "source": [
    "Mi = gmodulus(data, case='i')"
   ]
  },
  {
   "cell_type": "code",
   "execution_count": 11,
   "id": "b27bcbb0",
   "metadata": {},
   "outputs": [
    {
     "name": "stdout",
     "output_type": "stream",
     "text": [
      "1\n"
     ]
    }
   ],
   "source": [
    "print(Mi)"
   ]
  },
  {
   "cell_type": "code",
   "execution_count": null,
   "id": "95b612f5",
   "metadata": {},
   "outputs": [],
   "source": []
  }
 ],
 "metadata": {
  "kernelspec": {
   "display_name": ".venv",
   "language": "python",
   "name": "python3"
  },
  "language_info": {
   "codemirror_mode": {
    "name": "ipython",
    "version": 3
   },
   "file_extension": ".py",
   "mimetype": "text/x-python",
   "name": "python",
   "nbconvert_exporter": "python",
   "pygments_lexer": "ipython3",
   "version": "3.11.12"
  }
 },
 "nbformat": 4,
 "nbformat_minor": 5
}

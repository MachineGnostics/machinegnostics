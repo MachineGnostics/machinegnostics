{
 "cells": [
  {
   "cell_type": "code",
   "execution_count": 1,
   "id": "ab721791",
   "metadata": {},
   "outputs": [
    {
     "name": "stdout",
     "output_type": "stream",
     "text": [
      "Project root: /Users/nirmal/Documents/np_research/ManGo_code/ManGo\n",
      "Available at: src.magcal.gmed\n"
     ]
    }
   ],
   "source": [
    "import sys\n",
    "from pathlib import Path\n",
    "\n",
    "# Get the absolute path to the project root\n",
    "notebook_path = Path('/Users/nirmal/Documents/np_research/ManGo_code/ManGo')\n",
    "project_root = str(notebook_path)\n",
    "\n",
    "# Add the project root to Python path if it's not already there\n",
    "if project_root not in sys.path:\n",
    "    sys.path.insert(0, project_root)\n",
    "\n",
    "# Now you can import your module\n",
    "from src.magcal.gmed import gmedian\n",
    "\n",
    "# Verify the import worked\n",
    "print(f\"Project root: {project_root}\")\n",
    "print(f\"Available at: {gmedian.__module__}\")"
   ]
  },
  {
   "cell_type": "code",
   "execution_count": 2,
   "id": "6f80fb35",
   "metadata": {},
   "outputs": [
    {
     "name": "stdout",
     "output_type": "stream",
     "text": [
      "i G-median: 3.1887\n",
      "j G-median: 3.2105\n"
     ]
    }
   ],
   "source": [
    "\n",
    "# Sample data\n",
    "import numpy as np\n",
    "data = np.array([1.2, 2.3, 3.4, 4.5, 5.6])\n",
    "\n",
    "# Using function directly\n",
    "g_median_quant = gmedian(data, case='j')\n",
    "print(f\"i G-median: {g_median_quant:.4f}\")\n",
    "\n",
    "g_median_esti = gmedian(data, case='i')\n",
    "print(f\"j G-median: {g_median_esti:.4f}\")"
   ]
  },
  {
   "cell_type": "code",
   "execution_count": 3,
   "id": "6cbce12f",
   "metadata": {},
   "outputs": [
    {
     "name": "stdout",
     "output_type": "stream",
     "text": [
      "median 3.4\n"
     ]
    }
   ],
   "source": [
    "print(f'median {np.median(data)}')"
   ]
  },
  {
   "cell_type": "code",
   "execution_count": 4,
   "id": "6fe1be6f",
   "metadata": {},
   "outputs": [
    {
     "name": "stdout",
     "output_type": "stream",
     "text": [
      "mean 3.4\n"
     ]
    }
   ],
   "source": [
    "print(f'mean {np.mean(data)}')"
   ]
  },
  {
   "cell_type": "code",
   "execution_count": null,
   "id": "c32f72a6",
   "metadata": {},
   "outputs": [],
   "source": [
    "from src.magcal.gmodulus import gmodulus\n",
    "from src.magcal.gvar import gvariance\n",
    "from src.magcal.gacov import gautocovariance\n",
    "from src.magcal import gcorrelation, gvariance, gmodulus, gautocovariance, gcovariance"
   ]
  },
  {
   "cell_type": "code",
   "execution_count": 6,
   "id": "7ee4722e",
   "metadata": {},
   "outputs": [],
   "source": [
    "data = np.array([1, 1, 1, 1.3, 1.1, 1, 1.4])"
   ]
  },
  {
   "cell_type": "code",
   "execution_count": 7,
   "id": "a1753b6b",
   "metadata": {},
   "outputs": [
    {
     "name": "stdout",
     "output_type": "stream",
     "text": [
      "i G-median: 1.1014\n",
      "j G-median: 1.0790\n"
     ]
    }
   ],
   "source": [
    "# Using function directly\n",
    "g_median_quant = gmedian(data, case='j')\n",
    "print(f\"i G-median: {g_median_quant:.4f}\")\n",
    "\n",
    "g_median_esti = gmedian(data, case='i')\n",
    "print(f\"j G-median: {g_median_esti:.4f}\")"
   ]
  },
  {
   "cell_type": "code",
   "execution_count": 8,
   "id": "d5808eb8",
   "metadata": {},
   "outputs": [],
   "source": [
    "Mi = gmodulus(data, case='i')\n",
    "Mj = gmodulus(data, case='j')\n",
    "\n"
   ]
  },
  {
   "cell_type": "code",
   "execution_count": 9,
   "id": "b27bcbb0",
   "metadata": {},
   "outputs": [
    {
     "name": "stdout",
     "output_type": "stream",
     "text": [
      "Mi 0.7586710175646536, Mj 1.0353479722893655\n"
     ]
    }
   ],
   "source": [
    "print(f'Mi {Mi}, Mj {Mj}')"
   ]
  },
  {
   "cell_type": "code",
   "execution_count": 10,
   "id": "95b612f5",
   "metadata": {},
   "outputs": [],
   "source": [
    "gvar_i = gvariance(data, 'i')\n",
    "gvar_j = gvariance(data, 'j')"
   ]
  },
  {
   "cell_type": "code",
   "execution_count": 11,
   "id": "5e27f8fe",
   "metadata": {},
   "outputs": [
    {
     "name": "stdout",
     "output_type": "stream",
     "text": [
      "Gvar i:6.2775181878091e-14, Gvar j:0.007967047408588992\n"
     ]
    }
   ],
   "source": [
    "print(f'Gvar i:{gvar_i}, Gvar j:{gvar_j}')"
   ]
  },
  {
   "cell_type": "code",
   "execution_count": 12,
   "id": "afa185a1",
   "metadata": {},
   "outputs": [
    {
     "name": "stdout",
     "output_type": "stream",
     "text": [
      "Gvar i:2.0943247136528953e-12, Gvar j:-0.4570435138918648\n"
     ]
    }
   ],
   "source": [
    "# example of gvariance\n",
    "data = np.array([1, 2, 3, 4, 5])\n",
    "gvar_i = gvariance(data, 'i')\n",
    "gvar_j = gvariance(data, 'j')\n",
    "print(f'Gvar i:{gvar_i}, Gvar j:{gvar_j}')"
   ]
  },
  {
   "cell_type": "code",
   "execution_count": 13,
   "id": "7b08d112",
   "metadata": {},
   "outputs": [
    {
     "name": "stdout",
     "output_type": "stream",
     "text": [
      "Gcorrelation i:-0.48811115231124125, Gcorrelation j:-2.436396290059431\n"
     ]
    }
   ],
   "source": [
    "# example of gcorrelation\n",
    "data1 = np.array([1, 2, 3, 4, 5])\n",
    "data2 = np.array([5, 4, 3, 2, 1])\n",
    "gcor_i = gcorrelation(data1, data2, 'i')\n",
    "gcor_j = gcorrelation(data1, data2, 'j')\n",
    "print(f'Gcorrelation i:{gcor_i}, Gcorrelation j:{gcor_j}')"
   ]
  },
  {
   "cell_type": "code",
   "execution_count": 15,
   "id": "01ae3a09",
   "metadata": {},
   "outputs": [
    {
     "name": "stdout",
     "output_type": "stream",
     "text": [
      "Gautocovariance i:0.26767904840384404, Gautocovariance j:0.9855072394456723\n",
      "Gcovariance i:-0.48811115231124125, Gcovariance j:-2.436396290059431\n",
      "Gmodulus i:0.6563794353616111, Gmodulus j:1.7944203642047116\n",
      "Gmedian i:2.824266155122618, Gmedian j:2.8084133025557407\n",
      "Gcorrelation i:-0.48811115231124125, Gcorrelation j:-2.436396290059431\n"
     ]
    }
   ],
   "source": [
    "# example of gautocovariance\n",
    "data = np.array([1, 2, 3, 4, 5])\n",
    "gautocov_i = gautocovariance(data, 'i')\n",
    "gautocov_j = gautocovariance(data, 'j')\n",
    "print(f'Gautocovariance i:{gautocov_i}, Gautocovariance j:{gautocov_j}')\n",
    "# example of gcovariance\n",
    "data1 = np.array([1, 2, 3, 4, 5])\n",
    "data2 = np.array([5, 4, 3, 2, 1])\n",
    "gcov_i = gcovariance(data1, data2, 'i')\n",
    "gcov_j = gcovariance(data1, data2, 'j')\n",
    "print(f'Gcovariance i:{gcov_i}, Gcovariance j:{gcov_j}')\n",
    "# example of gmodulus\n",
    "data = np.array([1, 2, 3, 4, 5])\n",
    "gmod_i = gmodulus(data, 'i')\n",
    "gmod_j = gmodulus(data, 'j')\n",
    "print(f'Gmodulus i:{gmod_i}, Gmodulus j:{gmod_j}')\n",
    "# example of gmedian\n",
    "data = np.array([1, 2, 3, 4, 5])\n",
    "gmed_i = gmedian(data, 'i')\n",
    "gmed_j = gmedian(data, 'j')\n",
    "print(f'Gmedian i:{gmed_i}, Gmedian j:{gmed_j}')\n",
    "# example of gcorrelation\n",
    "data1 = np.array([1, 2, 3, 4, 5])\n",
    "data2 = np.array([5, 4, 3, 2, 1])\n",
    "gcor_i = gcorrelation(data1, data2, 'i')\n",
    "gcor_j = gcorrelation(data1, data2, 'j')\n",
    "print(f'Gcorrelation i:{gcor_i}, Gcorrelation j:{gcor_j}')"
   ]
  },
  {
   "cell_type": "code",
   "execution_count": null,
   "id": "aa4365c4",
   "metadata": {},
   "outputs": [],
   "source": []
  }
 ],
 "metadata": {
  "kernelspec": {
   "display_name": ".venv",
   "language": "python",
   "name": "python3"
  },
  "language_info": {
   "codemirror_mode": {
    "name": "ipython",
    "version": 3
   },
   "file_extension": ".py",
   "mimetype": "text/x-python",
   "name": "python",
   "nbconvert_exporter": "python",
   "pygments_lexer": "ipython3",
   "version": "3.11.12"
  }
 },
 "nbformat": 4,
 "nbformat_minor": 5
}

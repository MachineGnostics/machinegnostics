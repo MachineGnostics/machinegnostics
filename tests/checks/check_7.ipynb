{
 "cells": [
  {
   "cell_type": "code",
   "execution_count": 1,
   "id": "bfceb57b",
   "metadata": {},
   "outputs": [],
   "source": [
    "import numpy as np\n",
    "\n",
    "class CrossValidator:\n",
    "    def __init__(self, model, X, y, k=5, shuffle=True, random_seed=None):\n",
    "        self.model = model\n",
    "        self.X = np.array(X)\n",
    "        self.y = np.array(y)\n",
    "        self.k = k\n",
    "        self.shuffle = shuffle\n",
    "        self.random_seed = random_seed\n",
    "\n",
    "    def split(self):\n",
    "        n_samples = len(self.X)\n",
    "        indices = np.arange(n_samples)\n",
    "\n",
    "        if self.shuffle:\n",
    "            rng = np.random.default_rng(self.random_seed)\n",
    "            rng.shuffle(indices)\n",
    "\n",
    "        fold_sizes = np.full(self.k, n_samples // self.k, dtype=int)\n",
    "        fold_sizes[:n_samples % self.k] += 1\n",
    "\n",
    "        current = 0\n",
    "        folds = []\n",
    "        for fold_size in fold_sizes:\n",
    "            start, stop = current, current + fold_size\n",
    "            test_idx = indices[start:stop]\n",
    "            train_idx = np.concatenate([indices[:start], indices[stop:]])\n",
    "            folds.append((train_idx, test_idx))\n",
    "            current = stop\n",
    "        return folds\n",
    "\n",
    "    def evaluate(self, scoring_func):\n",
    "        scores = []\n",
    "        for train_idx, test_idx in self.split():\n",
    "            X_train, y_train = self.X[train_idx], self.y[train_idx]\n",
    "            X_test, y_test = self.X[test_idx], self.y[test_idx]\n",
    "\n",
    "            self.model.fit(X_train, y_train)\n",
    "            y_pred = self.model.predict(X_test)\n",
    "            score = scoring_func(y_test, y_pred)\n",
    "            scores.append(score)\n",
    "        return scores\n"
   ]
  },
  {
   "cell_type": "code",
   "execution_count": null,
   "id": "cb3fcd20",
   "metadata": {},
   "outputs": [],
   "source": []
  }
 ],
 "metadata": {
  "kernelspec": {
   "display_name": ".venv",
   "language": "python",
   "name": "python3"
  },
  "language_info": {
   "codemirror_mode": {
    "name": "ipython",
    "version": 3
   },
   "file_extension": ".py",
   "mimetype": "text/x-python",
   "name": "python",
   "nbconvert_exporter": "python",
   "pygments_lexer": "ipython3",
   "version": "3.11.12"
  }
 },
 "nbformat": 4,
 "nbformat_minor": 5
}

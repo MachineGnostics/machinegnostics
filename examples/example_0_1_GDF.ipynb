{
 "cells": [
  {
   "cell_type": "code",
   "execution_count": null,
   "id": "8a64ac98",
   "metadata": {},
   "outputs": [],
   "source": [
    "# install machine gnostics\n",
    "\n",
    "# recommended to run in a new virtual environment\n",
    "\n",
    "# !pip install machine-gnostics"
   ]
  },
  {
   "cell_type": "markdown",
   "id": "63d60902",
   "metadata": {},
   "source": [
    "# MG Basics - Mean, Median, Std, Variance"
   ]
  },
  {
   "cell_type": "markdown",
   "id": "8fa05a20",
   "metadata": {},
   "source": [
    " Unlike classical mean/median/std/variance metrics that use statistical averages, the Gnostic mean is computed using irrelevance and fidelity measures from gnostic theory. This approach is assumption-free and designed to reveal the true diagnostic properties of your data."
   ]
  },
  {
   "cell_type": "markdown",
   "id": "293474b9",
   "metadata": {},
   "source": [
    "## Example Data"
   ]
  },
  {
   "cell_type": "code",
   "execution_count": 17,
   "id": "8a688cea",
   "metadata": {},
   "outputs": [
    {
     "name": "stdout",
     "output_type": "stream",
     "text": [
      "Data:  [-13.5   1.    2.    3.    4.    5.    6.    7.    8.    9.   10. ]\n"
     ]
    }
   ],
   "source": [
    "# lets take a small data set example with one outlier\n",
    "import numpy as np\n",
    "\n",
    "data = np.array([-13.5, 1, 2, 3, 4, 5, 6, 7, 8, 9, 10])\n",
    "\n",
    "# print the data\n",
    "print(\"Data: \", data)"
   ]
  },
  {
   "cell_type": "code",
   "execution_count": 18,
   "id": "25af2848",
   "metadata": {},
   "outputs": [
    {
     "name": "stdout",
     "output_type": "stream",
     "text": [
      "Gnostic Mean:  5.436436436436438\n",
      "Gnostic Median:  5.102204408817634\n",
      "Gnostic Std Dev:  3.792715091418895 7.927985727603697\n",
      "Gnostic Variance:  0.5231367507167094\n"
     ]
    }
   ],
   "source": [
    "# MG Basics - Mean, Median, Std, Variance\n",
    "import machinegnostics as mg\n",
    "\n",
    "# mean\n",
    "mean = mg.mean(data)\n",
    "print(\"Gnostic Mean: \", mean)\n",
    "\n",
    "# median\n",
    "median = mg.median(data)\n",
    "print(\"Gnostic Median: \", median)\n",
    "\n",
    "# standard deviation\n",
    "# returns lower bound and upper bound\n",
    "std_dev_lb, std_dev_ub = mg.std(data)\n",
    "print(\"Gnostic Std Dev: \", std_dev_lb, std_dev_ub)\n",
    "\n",
    "# variance\n",
    "# gnostic variance lies between [0, 1], as it is calculated using gnostic irrelevance\n",
    "var = mg.variance(data)\n",
    "print(\"Gnostic Variance: \", var)"
   ]
  },
  {
   "cell_type": "markdown",
   "id": "2d8cca81",
   "metadata": {},
   "source": [
    "# GDF - Gnostic Distribution Functions\n",
    "\n",
    "visit Machine Gnostic [Learn](https://machinegnostics.info/mg/gdf/) section for further learning."
   ]
  },
  {
   "cell_type": "markdown",
   "id": "bd791082",
   "metadata": {},
   "source": [
    "Gnostic Distribution Functions (GDF) are a new class of probability and density estimators designed for robust, flexible, and assumption-free data analysis. Unlike traditional statistical distributions, GDFs do not require any prior assumptions about the underlying data distribution. Instead, they allow the data to \"speak for themselves,\" making them especially powerful for small, noisy, or uncertain datasets."
   ]
  },
  {
   "cell_type": "markdown",
   "id": "edac46b8",
   "metadata": {},
   "source": [
    "## EGDF"
   ]
  },
  {
   "cell_type": "code",
   "execution_count": null,
   "id": "081abcb7",
   "metadata": {},
   "outputs": [],
   "source": [
    "# EGDF - Estimating Global Distribution Function\n",
    "\n",
    "from machinegnostics.magcal import EGDF\n",
    "\n",
    "# create an EGDF object\n",
    "egdf = EGDF(verbose=False)\n",
    "\n",
    "# fit the data\n",
    "egdf.fit(data=data)\n",
    "\n",
    "# plot GDF\n",
    "egdf.plot(bounds=True)\n",
    "\n",
    "# check params\n",
    "egdf.params"
   ]
  },
  {
   "cell_type": "markdown",
   "id": "024650a4",
   "metadata": {},
   "source": [
    "## ELDF"
   ]
  },
  {
   "cell_type": "code",
   "execution_count": null,
   "id": "1da76463",
   "metadata": {},
   "outputs": [],
   "source": [
    "# ELDF - Estimating Local Distribution Function\n",
    "\n",
    "from machinegnostics.magcal import ELDF\n",
    "\n",
    "# create an ELDF object\n",
    "eldf = ELDF(verbose=False)\n",
    "\n",
    "# fit the data\n",
    "eldf.fit(data=data)\n",
    "\n",
    "# plot GDF\n",
    "eldf.plot(bounds=True)\n",
    "\n",
    "# check params\n",
    "eldf.params"
   ]
  },
  {
   "cell_type": "markdown",
   "id": "67c45d63",
   "metadata": {},
   "source": [
    "## QGDF"
   ]
  },
  {
   "cell_type": "code",
   "execution_count": null,
   "id": "b38abec2",
   "metadata": {},
   "outputs": [],
   "source": [
    "# QGDF - Quantifying Global Distribution Function\n",
    "\n",
    "from machinegnostics.magcal import QGDF\n",
    "\n",
    "# create a QGDF object\n",
    "qgdf = QGDF(verbose=False)\n",
    "\n",
    "# fit the data\n",
    "qgdf.fit(data=data)\n",
    "\n",
    "# plot GDF\n",
    "qgdf.plot(bounds=True)\n",
    "\n",
    "# check params\n",
    "qgdf.params"
   ]
  },
  {
   "cell_type": "markdown",
   "id": "01668610",
   "metadata": {},
   "source": [
    "## QLDF"
   ]
  },
  {
   "cell_type": "code",
   "execution_count": null,
   "id": "882b5c28",
   "metadata": {},
   "outputs": [],
   "source": [
    "# QLDF - Quantifying Local Distribution Function\n",
    "\n",
    "from machinegnostics.magcal import QLDF\n",
    "\n",
    "# create a QLDF object\n",
    "qldf = QLDF(verbose=False)\n",
    "\n",
    "# fit the data\n",
    "qldf.fit(data=data)\n",
    "\n",
    "# plot GDF\n",
    "qldf.plot(bounds=True)\n",
    "\n",
    "# check params\n",
    "qldf.params"
   ]
  }
 ],
 "metadata": {
  "kernelspec": {
   "display_name": ".venv",
   "language": "python",
   "name": "python3"
  },
  "language_info": {
   "codemirror_mode": {
    "name": "ipython",
    "version": 3
   },
   "file_extension": ".py",
   "mimetype": "text/x-python",
   "name": "python",
   "nbconvert_exporter": "python",
   "pygments_lexer": "ipython3",
   "version": "3.11.12"
  }
 },
 "nbformat": 4,
 "nbformat_minor": 5
}
